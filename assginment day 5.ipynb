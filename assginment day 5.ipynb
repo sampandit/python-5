{
 "cells": [
  {
   "cell_type": "code",
   "execution_count": 1,
   "metadata": {},
   "outputs": [
    {
     "name": "stdout",
     "output_type": "stream",
     "text": [
      "[0, 0, 1, 3, 10, 12, 39, 50, 50]\n"
     ]
    }
   ],
   "source": [
    "l = [0,50,10,3]\n",
    "a = [12,0,39,50,1]\n",
    "a.extend(l)\n",
    "i=0\n",
    "while i<len(a):\n",
    "    maxi=i\n",
    "    j=i+1\n",
    "    while j<len(a):\n",
    "        if a[maxi]>a[j]:\n",
    "            maxi=j\n",
    "        j=j+1\n",
    "    a[i],a[maxi]=a[maxi],a[i]\n",
    "    i=i+1\n",
    "print(a)"
   ]
  },
  {
   "cell_type": "code",
   "execution_count": null,
   "metadata": {},
   "outputs": [],
   "source": []
  }
 ],
 "metadata": {
  "kernelspec": {
   "display_name": "Python 3",
   "language": "python",
   "name": "python3"
  },
  "language_info": {
   "codemirror_mode": {
    "name": "ipython",
    "version": 3
   },
   "file_extension": ".py",
   "mimetype": "text/x-python",
   "name": "python",
   "nbconvert_exporter": "python",
   "pygments_lexer": "ipython3",
   "version": "3.7.6"
  }
 },
 "nbformat": 4,
 "nbformat_minor": 4
}
